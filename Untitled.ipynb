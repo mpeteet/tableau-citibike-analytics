{
 "cells": [
  {
   "cell_type": "markdown",
   "id": "excessive-canada",
   "metadata": {},
   "source": [
    "### CitiBike Analytics"
   ]
  },
  {
   "cell_type": "code",
   "execution_count": 4,
   "id": "saving-motor",
   "metadata": {},
   "outputs": [],
   "source": [
    "# Setup dependencies\n",
    "import pandas as pd\n",
    "#import seaborn as sns\n",
    "import matplotlib.pyplot as plt\n",
    "import numpy as np\n",
    "import datetime as dt"
   ]
  },
  {
   "cell_type": "code",
   "execution_count": 15,
   "id": "protective-exploration",
   "metadata": {},
   "outputs": [],
   "source": [
    "# Read in the CSV file\n",
    "rides_file = '../data/JC-202003-citibike-tripdata.csv'"
   ]
  },
  {
   "cell_type": "code",
   "execution_count": 16,
   "id": "fiscal-single",
   "metadata": {},
   "outputs": [
    {
     "ename": "TypeError",
     "evalue": "'str' object is not callable",
     "output_type": "error",
     "traceback": [
      "\u001b[1;31m---------------------------------------------------------------------------\u001b[0m",
      "\u001b[1;31mTypeError\u001b[0m                                 Traceback (most recent call last)",
      "\u001b[1;32m<ipython-input-16-01c0b05ebd2b>\u001b[0m in \u001b[0;36m<module>\u001b[1;34m\u001b[0m\n\u001b[1;32m----> 1\u001b[1;33m \u001b[0mrides_df\u001b[0m \u001b[1;33m=\u001b[0m \u001b[0mpd\u001b[0m\u001b[1;33m.\u001b[0m\u001b[0mread_csv\u001b[0m\u001b[1;33m(\u001b[0m\u001b[0mrides_file\u001b[0m\u001b[1;33m)\u001b[0m\u001b[1;33m\u001b[0m\u001b[1;33m\u001b[0m\u001b[0m\n\u001b[0m\u001b[0;32m      2\u001b[0m \u001b[1;31m#rides_df.head()\u001b[0m\u001b[1;33m\u001b[0m\u001b[1;33m\u001b[0m\u001b[1;33m\u001b[0m\u001b[0m\n",
      "\u001b[1;31mTypeError\u001b[0m: 'str' object is not callable"
     ]
    }
   ],
   "source": [
    "rides_df = pd.read_csv(rides_file)\n",
    "#rides_df.head()"
   ]
  },
  {
   "cell_type": "code",
   "execution_count": 14,
   "id": "related-publicity",
   "metadata": {},
   "outputs": [],
   "source": [
    "#rides_df.head()"
   ]
  },
  {
   "cell_type": "code",
   "execution_count": null,
   "id": "hundred-complaint",
   "metadata": {},
   "outputs": [],
   "source": []
  }
 ],
 "metadata": {
  "kernelspec": {
   "display_name": "Python 3",
   "language": "python",
   "name": "python3"
  },
  "language_info": {
   "codemirror_mode": {
    "name": "ipython",
    "version": 3
   },
   "file_extension": ".py",
   "mimetype": "text/x-python",
   "name": "python",
   "nbconvert_exporter": "python",
   "pygments_lexer": "ipython3",
   "version": "3.8.5"
  }
 },
 "nbformat": 4,
 "nbformat_minor": 5
}
