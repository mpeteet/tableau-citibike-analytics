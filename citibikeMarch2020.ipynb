{
 "cells": [
  {
   "cell_type": "markdown",
   "id": "timely-baltimore",
   "metadata": {},
   "source": [
    "### CitiBike Analytics"
   ]
  },
  {
   "cell_type": "code",
   "execution_count": 41,
   "id": "diverse-disney",
   "metadata": {},
   "outputs": [],
   "source": [
    "# Setup dependencies\n",
    "import pandas as pd\n",
    "import seaborn as sns\n",
    "import matplotlib.pyplot as plt\n",
    "import numpy as np\n",
    "import datetime as dt"
   ]
  },
  {
   "cell_type": "code",
   "execution_count": 10,
   "id": "failing-iraqi",
   "metadata": {},
   "outputs": [
    {
     "data": {
      "text/plain": [
       "(17719, 15)"
      ]
     },
     "execution_count": 10,
     "metadata": {},
     "output_type": "execute_result"
    }
   ],
   "source": [
    "# Read in the CSV file\n",
    "marchrides_file = 'data/JC-202003-citibike-tripdata.csv'\n",
    "marchrides_df.shape"
   ]
  },
  {
   "cell_type": "code",
   "execution_count": 11,
   "id": "floral-surrey",
   "metadata": {},
   "outputs": [
    {
     "data": {
      "text/html": [
       "<div>\n",
       "<style scoped>\n",
       "    .dataframe tbody tr th:only-of-type {\n",
       "        vertical-align: middle;\n",
       "    }\n",
       "\n",
       "    .dataframe tbody tr th {\n",
       "        vertical-align: top;\n",
       "    }\n",
       "\n",
       "    .dataframe thead th {\n",
       "        text-align: right;\n",
       "    }\n",
       "</style>\n",
       "<table border=\"1\" class=\"dataframe\">\n",
       "  <thead>\n",
       "    <tr style=\"text-align: right;\">\n",
       "      <th></th>\n",
       "      <th>tripduration</th>\n",
       "      <th>starttime</th>\n",
       "      <th>stoptime</th>\n",
       "      <th>start station id</th>\n",
       "      <th>start station name</th>\n",
       "      <th>start station latitude</th>\n",
       "      <th>start station longitude</th>\n",
       "      <th>end station id</th>\n",
       "      <th>end station name</th>\n",
       "      <th>end station latitude</th>\n",
       "      <th>end station longitude</th>\n",
       "      <th>bikeid</th>\n",
       "      <th>usertype</th>\n",
       "      <th>birth year</th>\n",
       "      <th>gender</th>\n",
       "    </tr>\n",
       "  </thead>\n",
       "  <tbody>\n",
       "    <tr>\n",
       "      <th>0</th>\n",
       "      <td>389</td>\n",
       "      <td>2020-03-01 00:14:07.0000</td>\n",
       "      <td>2020-03-01 00:20:36.0880</td>\n",
       "      <td>3202</td>\n",
       "      <td>Newport PATH</td>\n",
       "      <td>40.727224</td>\n",
       "      <td>-74.033759</td>\n",
       "      <td>3203</td>\n",
       "      <td>Hamilton Park</td>\n",
       "      <td>40.727596</td>\n",
       "      <td>-74.044247</td>\n",
       "      <td>42381</td>\n",
       "      <td>Subscriber</td>\n",
       "      <td>1992</td>\n",
       "      <td>1</td>\n",
       "    </tr>\n",
       "    <tr>\n",
       "      <th>1</th>\n",
       "      <td>242</td>\n",
       "      <td>2020-03-01 00:48:06.4390</td>\n",
       "      <td>2020-03-01 00:52:08.9870</td>\n",
       "      <td>3185</td>\n",
       "      <td>City Hall</td>\n",
       "      <td>40.717733</td>\n",
       "      <td>-74.043845</td>\n",
       "      <td>3205</td>\n",
       "      <td>JC Medical Center</td>\n",
       "      <td>40.716540</td>\n",
       "      <td>-74.049638</td>\n",
       "      <td>42155</td>\n",
       "      <td>Subscriber</td>\n",
       "      <td>1991</td>\n",
       "      <td>1</td>\n",
       "    </tr>\n",
       "    <tr>\n",
       "      <th>2</th>\n",
       "      <td>124</td>\n",
       "      <td>2020-03-01 01:08:46.4880</td>\n",
       "      <td>2020-03-01 01:10:51.2780</td>\n",
       "      <td>3272</td>\n",
       "      <td>Jersey &amp; 3rd</td>\n",
       "      <td>40.723332</td>\n",
       "      <td>-74.045953</td>\n",
       "      <td>3278</td>\n",
       "      <td>Monmouth and 6th</td>\n",
       "      <td>40.725685</td>\n",
       "      <td>-74.048790</td>\n",
       "      <td>42376</td>\n",
       "      <td>Subscriber</td>\n",
       "      <td>1987</td>\n",
       "      <td>0</td>\n",
       "    </tr>\n",
       "    <tr>\n",
       "      <th>3</th>\n",
       "      <td>104</td>\n",
       "      <td>2020-03-01 01:22:35.4790</td>\n",
       "      <td>2020-03-01 01:24:20.2470</td>\n",
       "      <td>3202</td>\n",
       "      <td>Newport PATH</td>\n",
       "      <td>40.727224</td>\n",
       "      <td>-74.033759</td>\n",
       "      <td>3638</td>\n",
       "      <td>Washington St</td>\n",
       "      <td>40.724294</td>\n",
       "      <td>-74.035483</td>\n",
       "      <td>42350</td>\n",
       "      <td>Subscriber</td>\n",
       "      <td>1993</td>\n",
       "      <td>1</td>\n",
       "    </tr>\n",
       "    <tr>\n",
       "      <th>4</th>\n",
       "      <td>228</td>\n",
       "      <td>2020-03-01 01:39:20.2680</td>\n",
       "      <td>2020-03-01 01:43:09.1380</td>\n",
       "      <td>3194</td>\n",
       "      <td>McGinley Square</td>\n",
       "      <td>40.725340</td>\n",
       "      <td>-74.067622</td>\n",
       "      <td>3280</td>\n",
       "      <td>Astor Place</td>\n",
       "      <td>40.719282</td>\n",
       "      <td>-74.071262</td>\n",
       "      <td>42235</td>\n",
       "      <td>Subscriber</td>\n",
       "      <td>1988</td>\n",
       "      <td>1</td>\n",
       "    </tr>\n",
       "  </tbody>\n",
       "</table>\n",
       "</div>"
      ],
      "text/plain": [
       "   tripduration                 starttime                  stoptime  \\\n",
       "0           389  2020-03-01 00:14:07.0000  2020-03-01 00:20:36.0880   \n",
       "1           242  2020-03-01 00:48:06.4390  2020-03-01 00:52:08.9870   \n",
       "2           124  2020-03-01 01:08:46.4880  2020-03-01 01:10:51.2780   \n",
       "3           104  2020-03-01 01:22:35.4790  2020-03-01 01:24:20.2470   \n",
       "4           228  2020-03-01 01:39:20.2680  2020-03-01 01:43:09.1380   \n",
       "\n",
       "   start station id start station name  start station latitude  \\\n",
       "0              3202       Newport PATH               40.727224   \n",
       "1              3185          City Hall               40.717733   \n",
       "2              3272       Jersey & 3rd               40.723332   \n",
       "3              3202       Newport PATH               40.727224   \n",
       "4              3194    McGinley Square               40.725340   \n",
       "\n",
       "   start station longitude  end station id   end station name  \\\n",
       "0               -74.033759            3203      Hamilton Park   \n",
       "1               -74.043845            3205  JC Medical Center   \n",
       "2               -74.045953            3278   Monmouth and 6th   \n",
       "3               -74.033759            3638      Washington St   \n",
       "4               -74.067622            3280        Astor Place   \n",
       "\n",
       "   end station latitude  end station longitude  bikeid    usertype  \\\n",
       "0             40.727596             -74.044247   42381  Subscriber   \n",
       "1             40.716540             -74.049638   42155  Subscriber   \n",
       "2             40.725685             -74.048790   42376  Subscriber   \n",
       "3             40.724294             -74.035483   42350  Subscriber   \n",
       "4             40.719282             -74.071262   42235  Subscriber   \n",
       "\n",
       "   birth year  gender  \n",
       "0        1992       1  \n",
       "1        1991       1  \n",
       "2        1987       0  \n",
       "3        1993       1  \n",
       "4        1988       1  "
      ]
     },
     "execution_count": 11,
     "metadata": {},
     "output_type": "execute_result"
    }
   ],
   "source": [
    "marchrides_df = pd.read_csv(rides_file)\n",
    "marchrides_df.head()"
   ]
  },
  {
   "cell_type": "code",
   "execution_count": 15,
   "id": "posted-technician",
   "metadata": {},
   "outputs": [
    {
     "name": "stdout",
     "output_type": "stream",
     "text": [
      "<class 'pandas.core.frame.DataFrame'>\n",
      "RangeIndex: 17719 entries, 0 to 17718\n",
      "Data columns (total 15 columns):\n",
      " #   Column                   Non-Null Count  Dtype  \n",
      "---  ------                   --------------  -----  \n",
      " 0   tripduration             17719 non-null  int64  \n",
      " 1   starttime                17719 non-null  object \n",
      " 2   stoptime                 17719 non-null  object \n",
      " 3   start station id         17719 non-null  int64  \n",
      " 4   start station name       17719 non-null  object \n",
      " 5   start station latitude   17719 non-null  float64\n",
      " 6   start station longitude  17719 non-null  float64\n",
      " 7   end station id           17719 non-null  int64  \n",
      " 8   end station name         17719 non-null  object \n",
      " 9   end station latitude     17719 non-null  float64\n",
      " 10  end station longitude    17719 non-null  float64\n",
      " 11  bikeid                   17719 non-null  int64  \n",
      " 12  usertype                 17719 non-null  object \n",
      " 13  birth year               17719 non-null  int64  \n",
      " 14  gender                   17719 non-null  int64  \n",
      "dtypes: float64(4), int64(6), object(5)\n",
      "memory usage: 2.0+ MB\n"
     ]
    }
   ],
   "source": [
    "marchrides_df.info()"
   ]
  },
  {
   "cell_type": "code",
   "execution_count": 12,
   "id": "general-latest",
   "metadata": {},
   "outputs": [
    {
     "data": {
      "text/html": [
       "<div>\n",
       "<style scoped>\n",
       "    .dataframe tbody tr th:only-of-type {\n",
       "        vertical-align: middle;\n",
       "    }\n",
       "\n",
       "    .dataframe tbody tr th {\n",
       "        vertical-align: top;\n",
       "    }\n",
       "\n",
       "    .dataframe thead th {\n",
       "        text-align: right;\n",
       "    }\n",
       "</style>\n",
       "<table border=\"1\" class=\"dataframe\">\n",
       "  <thead>\n",
       "    <tr style=\"text-align: right;\">\n",
       "      <th></th>\n",
       "      <th>tripduration</th>\n",
       "      <th>start station id</th>\n",
       "      <th>start station latitude</th>\n",
       "      <th>start station longitude</th>\n",
       "      <th>end station id</th>\n",
       "      <th>end station latitude</th>\n",
       "      <th>end station longitude</th>\n",
       "      <th>bikeid</th>\n",
       "      <th>birth year</th>\n",
       "      <th>gender</th>\n",
       "    </tr>\n",
       "  </thead>\n",
       "  <tbody>\n",
       "    <tr>\n",
       "      <th>count</th>\n",
       "      <td>17719.00</td>\n",
       "      <td>17719.00</td>\n",
       "      <td>17719.00</td>\n",
       "      <td>17719.00</td>\n",
       "      <td>17719.00</td>\n",
       "      <td>17719.00</td>\n",
       "      <td>17719.00</td>\n",
       "      <td>17719.00</td>\n",
       "      <td>17719.00</td>\n",
       "      <td>17719.00</td>\n",
       "    </tr>\n",
       "    <tr>\n",
       "      <th>mean</th>\n",
       "      <td>1384.51</td>\n",
       "      <td>3307.35</td>\n",
       "      <td>40.72</td>\n",
       "      <td>-74.05</td>\n",
       "      <td>3305.89</td>\n",
       "      <td>40.72</td>\n",
       "      <td>-74.05</td>\n",
       "      <td>42103.19</td>\n",
       "      <td>1980.74</td>\n",
       "      <td>1.15</td>\n",
       "    </tr>\n",
       "    <tr>\n",
       "      <th>std</th>\n",
       "      <td>26110.10</td>\n",
       "      <td>183.44</td>\n",
       "      <td>0.01</td>\n",
       "      <td>0.01</td>\n",
       "      <td>183.89</td>\n",
       "      <td>0.01</td>\n",
       "      <td>0.01</td>\n",
       "      <td>1999.09</td>\n",
       "      <td>10.77</td>\n",
       "      <td>0.55</td>\n",
       "    </tr>\n",
       "    <tr>\n",
       "      <th>min</th>\n",
       "      <td>61.00</td>\n",
       "      <td>3184.00</td>\n",
       "      <td>40.71</td>\n",
       "      <td>-74.08</td>\n",
       "      <td>3184.00</td>\n",
       "      <td>40.71</td>\n",
       "      <td>-74.08</td>\n",
       "      <td>14578.00</td>\n",
       "      <td>1939.00</td>\n",
       "      <td>0.00</td>\n",
       "    </tr>\n",
       "    <tr>\n",
       "      <th>25%</th>\n",
       "      <td>252.00</td>\n",
       "      <td>3195.00</td>\n",
       "      <td>40.72</td>\n",
       "      <td>-74.05</td>\n",
       "      <td>3195.00</td>\n",
       "      <td>40.72</td>\n",
       "      <td>-74.05</td>\n",
       "      <td>42213.00</td>\n",
       "      <td>1972.00</td>\n",
       "      <td>1.00</td>\n",
       "    </tr>\n",
       "    <tr>\n",
       "      <th>50%</th>\n",
       "      <td>420.00</td>\n",
       "      <td>3211.00</td>\n",
       "      <td>40.72</td>\n",
       "      <td>-74.04</td>\n",
       "      <td>3211.00</td>\n",
       "      <td>40.72</td>\n",
       "      <td>-74.04</td>\n",
       "      <td>42348.00</td>\n",
       "      <td>1983.00</td>\n",
       "      <td>1.00</td>\n",
       "    </tr>\n",
       "    <tr>\n",
       "      <th>75%</th>\n",
       "      <td>828.00</td>\n",
       "      <td>3276.00</td>\n",
       "      <td>40.73</td>\n",
       "      <td>-74.04</td>\n",
       "      <td>3276.00</td>\n",
       "      <td>40.73</td>\n",
       "      <td>-74.04</td>\n",
       "      <td>42477.00</td>\n",
       "      <td>1989.00</td>\n",
       "      <td>1.00</td>\n",
       "    </tr>\n",
       "    <tr>\n",
       "      <th>max</th>\n",
       "      <td>1930668.00</td>\n",
       "      <td>3792.00</td>\n",
       "      <td>40.75</td>\n",
       "      <td>-74.03</td>\n",
       "      <td>3792.00</td>\n",
       "      <td>40.81</td>\n",
       "      <td>-73.95</td>\n",
       "      <td>42636.00</td>\n",
       "      <td>2002.00</td>\n",
       "      <td>2.00</td>\n",
       "    </tr>\n",
       "  </tbody>\n",
       "</table>\n",
       "</div>"
      ],
      "text/plain": [
       "       tripduration  start station id  start station latitude  \\\n",
       "count      17719.00          17719.00                17719.00   \n",
       "mean        1384.51           3307.35                   40.72   \n",
       "std        26110.10            183.44                    0.01   \n",
       "min           61.00           3184.00                   40.71   \n",
       "25%          252.00           3195.00                   40.72   \n",
       "50%          420.00           3211.00                   40.72   \n",
       "75%          828.00           3276.00                   40.73   \n",
       "max      1930668.00           3792.00                   40.75   \n",
       "\n",
       "       start station longitude  end station id  end station latitude  \\\n",
       "count                 17719.00        17719.00              17719.00   \n",
       "mean                    -74.05         3305.89                 40.72   \n",
       "std                       0.01          183.89                  0.01   \n",
       "min                     -74.08         3184.00                 40.71   \n",
       "25%                     -74.05         3195.00                 40.72   \n",
       "50%                     -74.04         3211.00                 40.72   \n",
       "75%                     -74.04         3276.00                 40.73   \n",
       "max                     -74.03         3792.00                 40.81   \n",
       "\n",
       "       end station longitude    bikeid  birth year    gender  \n",
       "count               17719.00  17719.00    17719.00  17719.00  \n",
       "mean                  -74.05  42103.19     1980.74      1.15  \n",
       "std                     0.01   1999.09       10.77      0.55  \n",
       "min                   -74.08  14578.00     1939.00      0.00  \n",
       "25%                   -74.05  42213.00     1972.00      1.00  \n",
       "50%                   -74.04  42348.00     1983.00      1.00  \n",
       "75%                   -74.04  42477.00     1989.00      1.00  \n",
       "max                   -73.95  42636.00     2002.00      2.00  "
      ]
     },
     "execution_count": 12,
     "metadata": {},
     "output_type": "execute_result"
    }
   ],
   "source": [
    "marchrides_df.describe().round(2)"
   ]
  },
  {
   "cell_type": "markdown",
   "id": "friendly-duplicate",
   "metadata": {},
   "source": [
    "##### Data clean up is needed to make analysis useful.  \n",
    "###### The shortest trip is 61 seconds and will be ignored by Citi Bike (less than 60 seconds). \n",
    "###### The longest trip, 1930668 (536 hours), does this mean the bike wasn't docked.  This large number will throw the mean off.\n",
    "###### The startime/stoptime columns are object data types and need to be converted to timestamps in order to use either date or time"
   ]
  },
  {
   "cell_type": "code",
   "execution_count": 72,
   "id": "abandoned-database",
   "metadata": {},
   "outputs": [
    {
     "name": "stdout",
     "output_type": "stream",
     "text": [
      "<class 'pandas.core.frame.DataFrame'>\n",
      "Int64Index: 17719 entries, 6 to 14\n",
      "Data columns (total 20 columns):\n",
      " #   Column                   Non-Null Count  Dtype         \n",
      "---  ------                   --------------  -----         \n",
      " 0   tripduration             17719 non-null  int64         \n",
      " 1   starttime                17719 non-null  datetime64[ns]\n",
      " 2   stoptime                 17719 non-null  datetime64[ns]\n",
      " 3   start station id         17719 non-null  int64         \n",
      " 4   start station name       17719 non-null  object        \n",
      " 5   start station latitude   17719 non-null  float64       \n",
      " 6   start station longitude  17719 non-null  float64       \n",
      " 7   end station id           17719 non-null  int64         \n",
      " 8   end station name         17719 non-null  object        \n",
      " 9   end station latitude     17719 non-null  float64       \n",
      " 10  end station longitude    17719 non-null  float64       \n",
      " 11  bikeid                   17719 non-null  int64         \n",
      " 12  usertype                 17719 non-null  object        \n",
      " 13  birth year               17719 non-null  int64         \n",
      " 14  gender                   17719 non-null  int64         \n",
      " 15  start hour               17719 non-null  category      \n",
      " 16  start day                17719 non-null  category      \n",
      " 17  weekday                  17719 non-null  category      \n",
      " 18  day                      17719 non-null  object        \n",
      " 19  age                      16218 non-null  object        \n",
      "dtypes: category(3), datetime64[ns](2), float64(4), int64(6), object(5)\n",
      "memory usage: 2.5+ MB\n"
     ]
    }
   ],
   "source": [
    "# Change start/stop time columns from objects to timestamps\n",
    "marchrides_df['starttime'] = pd.to_datetime(marchrides_df['starttime'])\n",
    "marchrides_df['stoptime'] = pd.to_datetime(marchrides_df['stoptime'])\n",
    "\n",
    "\n",
    "marchrides_df.info()"
   ]
  },
  {
   "cell_type": "code",
   "execution_count": 92,
   "id": "surprising-hughes",
   "metadata": {},
   "outputs": [
    {
     "data": {
      "text/html": [
       "<div>\n",
       "<style scoped>\n",
       "    .dataframe tbody tr th:only-of-type {\n",
       "        vertical-align: middle;\n",
       "    }\n",
       "\n",
       "    .dataframe tbody tr th {\n",
       "        vertical-align: top;\n",
       "    }\n",
       "\n",
       "    .dataframe thead th {\n",
       "        text-align: right;\n",
       "    }\n",
       "</style>\n",
       "<table border=\"1\" class=\"dataframe\">\n",
       "  <thead>\n",
       "    <tr style=\"text-align: right;\">\n",
       "      <th></th>\n",
       "      <th>tripduration</th>\n",
       "      <th>starttime</th>\n",
       "      <th>stoptime</th>\n",
       "      <th>start station id</th>\n",
       "      <th>start station name</th>\n",
       "      <th>start station latitude</th>\n",
       "      <th>start station longitude</th>\n",
       "      <th>end station id</th>\n",
       "      <th>end station name</th>\n",
       "      <th>end station latitude</th>\n",
       "      <th>...</th>\n",
       "      <th>bikeid</th>\n",
       "      <th>usertype</th>\n",
       "      <th>birth year</th>\n",
       "      <th>gender</th>\n",
       "      <th>start hour</th>\n",
       "      <th>start day</th>\n",
       "      <th>weekday</th>\n",
       "      <th>day</th>\n",
       "      <th>age</th>\n",
       "      <th>tripminutes</th>\n",
       "    </tr>\n",
       "    <tr>\n",
       "      <th>tripminutes</th>\n",
       "      <th></th>\n",
       "      <th></th>\n",
       "      <th></th>\n",
       "      <th></th>\n",
       "      <th></th>\n",
       "      <th></th>\n",
       "      <th></th>\n",
       "      <th></th>\n",
       "      <th></th>\n",
       "      <th></th>\n",
       "      <th></th>\n",
       "      <th></th>\n",
       "      <th></th>\n",
       "      <th></th>\n",
       "      <th></th>\n",
       "      <th></th>\n",
       "      <th></th>\n",
       "      <th></th>\n",
       "      <th></th>\n",
       "      <th></th>\n",
       "      <th></th>\n",
       "    </tr>\n",
       "  </thead>\n",
       "  <tbody>\n",
       "    <tr>\n",
       "      <th>6</th>\n",
       "      <td>389</td>\n",
       "      <td>2020-03-01 00:14:07.000</td>\n",
       "      <td>2020-03-01 00:20:36.088</td>\n",
       "      <td>3202</td>\n",
       "      <td>Newport PATH</td>\n",
       "      <td>40.727224</td>\n",
       "      <td>-74.033759</td>\n",
       "      <td>3203</td>\n",
       "      <td>Hamilton Park</td>\n",
       "      <td>40.727596</td>\n",
       "      <td>...</td>\n",
       "      <td>42381</td>\n",
       "      <td>Subscriber</td>\n",
       "      <td>1992</td>\n",
       "      <td>1</td>\n",
       "      <td>0</td>\n",
       "      <td>1</td>\n",
       "      <td>6</td>\n",
       "      <td>Weekend</td>\n",
       "      <td>28</td>\n",
       "      <td>6</td>\n",
       "    </tr>\n",
       "    <tr>\n",
       "      <th>4</th>\n",
       "      <td>242</td>\n",
       "      <td>2020-03-01 00:48:06.439</td>\n",
       "      <td>2020-03-01 00:52:08.987</td>\n",
       "      <td>3185</td>\n",
       "      <td>City Hall</td>\n",
       "      <td>40.717733</td>\n",
       "      <td>-74.043845</td>\n",
       "      <td>3205</td>\n",
       "      <td>JC Medical Center</td>\n",
       "      <td>40.716540</td>\n",
       "      <td>...</td>\n",
       "      <td>42155</td>\n",
       "      <td>Subscriber</td>\n",
       "      <td>1991</td>\n",
       "      <td>1</td>\n",
       "      <td>0</td>\n",
       "      <td>1</td>\n",
       "      <td>6</td>\n",
       "      <td>Weekend</td>\n",
       "      <td>29</td>\n",
       "      <td>4</td>\n",
       "    </tr>\n",
       "    <tr>\n",
       "      <th>2</th>\n",
       "      <td>124</td>\n",
       "      <td>2020-03-01 01:08:46.488</td>\n",
       "      <td>2020-03-01 01:10:51.278</td>\n",
       "      <td>3272</td>\n",
       "      <td>Jersey &amp; 3rd</td>\n",
       "      <td>40.723332</td>\n",
       "      <td>-74.045953</td>\n",
       "      <td>3278</td>\n",
       "      <td>Monmouth and 6th</td>\n",
       "      <td>40.725685</td>\n",
       "      <td>...</td>\n",
       "      <td>42376</td>\n",
       "      <td>Subscriber</td>\n",
       "      <td>1987</td>\n",
       "      <td>0</td>\n",
       "      <td>1</td>\n",
       "      <td>1</td>\n",
       "      <td>6</td>\n",
       "      <td>Weekend</td>\n",
       "      <td>33</td>\n",
       "      <td>2</td>\n",
       "    </tr>\n",
       "    <tr>\n",
       "      <th>1</th>\n",
       "      <td>104</td>\n",
       "      <td>2020-03-01 01:22:35.479</td>\n",
       "      <td>2020-03-01 01:24:20.247</td>\n",
       "      <td>3202</td>\n",
       "      <td>Newport PATH</td>\n",
       "      <td>40.727224</td>\n",
       "      <td>-74.033759</td>\n",
       "      <td>3638</td>\n",
       "      <td>Washington St</td>\n",
       "      <td>40.724294</td>\n",
       "      <td>...</td>\n",
       "      <td>42350</td>\n",
       "      <td>Subscriber</td>\n",
       "      <td>1993</td>\n",
       "      <td>1</td>\n",
       "      <td>1</td>\n",
       "      <td>1</td>\n",
       "      <td>6</td>\n",
       "      <td>Weekend</td>\n",
       "      <td>27</td>\n",
       "      <td>1</td>\n",
       "    </tr>\n",
       "    <tr>\n",
       "      <th>3</th>\n",
       "      <td>228</td>\n",
       "      <td>2020-03-01 01:39:20.268</td>\n",
       "      <td>2020-03-01 01:43:09.138</td>\n",
       "      <td>3194</td>\n",
       "      <td>McGinley Square</td>\n",
       "      <td>40.725340</td>\n",
       "      <td>-74.067622</td>\n",
       "      <td>3280</td>\n",
       "      <td>Astor Place</td>\n",
       "      <td>40.719282</td>\n",
       "      <td>...</td>\n",
       "      <td>42235</td>\n",
       "      <td>Subscriber</td>\n",
       "      <td>1988</td>\n",
       "      <td>1</td>\n",
       "      <td>1</td>\n",
       "      <td>1</td>\n",
       "      <td>6</td>\n",
       "      <td>Weekend</td>\n",
       "      <td>32</td>\n",
       "      <td>3</td>\n",
       "    </tr>\n",
       "    <tr>\n",
       "      <th>8</th>\n",
       "      <td>526</td>\n",
       "      <td>2020-03-01 01:50:56.745</td>\n",
       "      <td>2020-03-01 01:59:43.690</td>\n",
       "      <td>3225</td>\n",
       "      <td>Baldwin at Montgomery</td>\n",
       "      <td>40.723659</td>\n",
       "      <td>-74.064194</td>\n",
       "      <td>3694</td>\n",
       "      <td>Jackson Square</td>\n",
       "      <td>40.711130</td>\n",
       "      <td>...</td>\n",
       "      <td>42263</td>\n",
       "      <td>Subscriber</td>\n",
       "      <td>1969</td>\n",
       "      <td>1</td>\n",
       "      <td>1</td>\n",
       "      <td>1</td>\n",
       "      <td>6</td>\n",
       "      <td>Weekend</td>\n",
       "      <td>51</td>\n",
       "      <td>8</td>\n",
       "    </tr>\n",
       "    <tr>\n",
       "      <th>3</th>\n",
       "      <td>237</td>\n",
       "      <td>2020-03-01 02:14:38.850</td>\n",
       "      <td>2020-03-01 02:18:35.872</td>\n",
       "      <td>3214</td>\n",
       "      <td>Essex Light Rail</td>\n",
       "      <td>40.712774</td>\n",
       "      <td>-74.036486</td>\n",
       "      <td>3185</td>\n",
       "      <td>City Hall</td>\n",
       "      <td>40.717733</td>\n",
       "      <td>...</td>\n",
       "      <td>42122</td>\n",
       "      <td>Subscriber</td>\n",
       "      <td>1988</td>\n",
       "      <td>1</td>\n",
       "      <td>2</td>\n",
       "      <td>1</td>\n",
       "      <td>6</td>\n",
       "      <td>Weekend</td>\n",
       "      <td>32</td>\n",
       "      <td>3</td>\n",
       "    </tr>\n",
       "    <tr>\n",
       "      <th>6</th>\n",
       "      <td>365</td>\n",
       "      <td>2020-03-01 02:35:11.551</td>\n",
       "      <td>2020-03-01 02:41:16.933</td>\n",
       "      <td>3273</td>\n",
       "      <td>Manila &amp; 1st</td>\n",
       "      <td>40.721651</td>\n",
       "      <td>-74.042884</td>\n",
       "      <td>3269</td>\n",
       "      <td>Brunswick &amp; 6th</td>\n",
       "      <td>40.726012</td>\n",
       "      <td>...</td>\n",
       "      <td>42490</td>\n",
       "      <td>Subscriber</td>\n",
       "      <td>1973</td>\n",
       "      <td>2</td>\n",
       "      <td>2</td>\n",
       "      <td>1</td>\n",
       "      <td>6</td>\n",
       "      <td>Weekend</td>\n",
       "      <td>47</td>\n",
       "      <td>6</td>\n",
       "    </tr>\n",
       "    <tr>\n",
       "      <th>5</th>\n",
       "      <td>300</td>\n",
       "      <td>2020-03-01 02:46:40.373</td>\n",
       "      <td>2020-03-01 02:51:40.759</td>\n",
       "      <td>3273</td>\n",
       "      <td>Manila &amp; 1st</td>\n",
       "      <td>40.721651</td>\n",
       "      <td>-74.042884</td>\n",
       "      <td>3269</td>\n",
       "      <td>Brunswick &amp; 6th</td>\n",
       "      <td>40.726012</td>\n",
       "      <td>...</td>\n",
       "      <td>42312</td>\n",
       "      <td>Subscriber</td>\n",
       "      <td>1981</td>\n",
       "      <td>1</td>\n",
       "      <td>2</td>\n",
       "      <td>1</td>\n",
       "      <td>6</td>\n",
       "      <td>Weekend</td>\n",
       "      <td>39</td>\n",
       "      <td>5</td>\n",
       "    </tr>\n",
       "    <tr>\n",
       "      <th>2</th>\n",
       "      <td>176</td>\n",
       "      <td>2020-03-01 03:56:13.738</td>\n",
       "      <td>2020-03-01 03:59:09.944</td>\n",
       "      <td>3275</td>\n",
       "      <td>Columbus Drive</td>\n",
       "      <td>40.718355</td>\n",
       "      <td>-74.038914</td>\n",
       "      <td>3273</td>\n",
       "      <td>Manila &amp; 1st</td>\n",
       "      <td>40.721651</td>\n",
       "      <td>...</td>\n",
       "      <td>42524</td>\n",
       "      <td>Subscriber</td>\n",
       "      <td>1990</td>\n",
       "      <td>1</td>\n",
       "      <td>3</td>\n",
       "      <td>1</td>\n",
       "      <td>6</td>\n",
       "      <td>Weekend</td>\n",
       "      <td>30</td>\n",
       "      <td>2</td>\n",
       "    </tr>\n",
       "  </tbody>\n",
       "</table>\n",
       "<p>10 rows × 21 columns</p>\n",
       "</div>"
      ],
      "text/plain": [
       "             tripduration               starttime                stoptime  \\\n",
       "tripminutes                                                                 \n",
       "6                     389 2020-03-01 00:14:07.000 2020-03-01 00:20:36.088   \n",
       "4                     242 2020-03-01 00:48:06.439 2020-03-01 00:52:08.987   \n",
       "2                     124 2020-03-01 01:08:46.488 2020-03-01 01:10:51.278   \n",
       "1                     104 2020-03-01 01:22:35.479 2020-03-01 01:24:20.247   \n",
       "3                     228 2020-03-01 01:39:20.268 2020-03-01 01:43:09.138   \n",
       "8                     526 2020-03-01 01:50:56.745 2020-03-01 01:59:43.690   \n",
       "3                     237 2020-03-01 02:14:38.850 2020-03-01 02:18:35.872   \n",
       "6                     365 2020-03-01 02:35:11.551 2020-03-01 02:41:16.933   \n",
       "5                     300 2020-03-01 02:46:40.373 2020-03-01 02:51:40.759   \n",
       "2                     176 2020-03-01 03:56:13.738 2020-03-01 03:59:09.944   \n",
       "\n",
       "             start station id     start station name  start station latitude  \\\n",
       "tripminutes                                                                    \n",
       "6                        3202           Newport PATH               40.727224   \n",
       "4                        3185              City Hall               40.717733   \n",
       "2                        3272           Jersey & 3rd               40.723332   \n",
       "1                        3202           Newport PATH               40.727224   \n",
       "3                        3194        McGinley Square               40.725340   \n",
       "8                        3225  Baldwin at Montgomery               40.723659   \n",
       "3                        3214       Essex Light Rail               40.712774   \n",
       "6                        3273           Manila & 1st               40.721651   \n",
       "5                        3273           Manila & 1st               40.721651   \n",
       "2                        3275         Columbus Drive               40.718355   \n",
       "\n",
       "             start station longitude  end station id   end station name  \\\n",
       "tripminutes                                                               \n",
       "6                         -74.033759            3203      Hamilton Park   \n",
       "4                         -74.043845            3205  JC Medical Center   \n",
       "2                         -74.045953            3278   Monmouth and 6th   \n",
       "1                         -74.033759            3638      Washington St   \n",
       "3                         -74.067622            3280        Astor Place   \n",
       "8                         -74.064194            3694     Jackson Square   \n",
       "3                         -74.036486            3185          City Hall   \n",
       "6                         -74.042884            3269    Brunswick & 6th   \n",
       "5                         -74.042884            3269    Brunswick & 6th   \n",
       "2                         -74.038914            3273       Manila & 1st   \n",
       "\n",
       "             end station latitude  ...  bikeid    usertype birth year  gender  \\\n",
       "tripminutes                        ...                                          \n",
       "6                       40.727596  ...   42381  Subscriber       1992       1   \n",
       "4                       40.716540  ...   42155  Subscriber       1991       1   \n",
       "2                       40.725685  ...   42376  Subscriber       1987       0   \n",
       "1                       40.724294  ...   42350  Subscriber       1993       1   \n",
       "3                       40.719282  ...   42235  Subscriber       1988       1   \n",
       "8                       40.711130  ...   42263  Subscriber       1969       1   \n",
       "3                       40.717733  ...   42122  Subscriber       1988       1   \n",
       "6                       40.726012  ...   42490  Subscriber       1973       2   \n",
       "5                       40.726012  ...   42312  Subscriber       1981       1   \n",
       "2                       40.721651  ...   42524  Subscriber       1990       1   \n",
       "\n",
       "             start hour start day weekday      day age  tripminutes  \n",
       "tripminutes                                                          \n",
       "6                     0         1       6  Weekend  28            6  \n",
       "4                     0         1       6  Weekend  29            4  \n",
       "2                     1         1       6  Weekend  33            2  \n",
       "1                     1         1       6  Weekend  27            1  \n",
       "3                     1         1       6  Weekend  32            3  \n",
       "8                     1         1       6  Weekend  51            8  \n",
       "3                     2         1       6  Weekend  32            3  \n",
       "6                     2         1       6  Weekend  47            6  \n",
       "5                     2         1       6  Weekend  39            5  \n",
       "2                     3         1       6  Weekend  30            2  \n",
       "\n",
       "[10 rows x 21 columns]"
      ]
     },
     "execution_count": 92,
     "metadata": {},
     "output_type": "execute_result"
    }
   ],
   "source": [
    "marchrides_df['tripminutes'] = marchrides_df['tripduration'] // 60\n",
    "marchrides_df['age'] = 2020 - marchrides_df['birth year']\n",
    "\n",
    "\n",
    "marchrides_df.head(10)"
   ]
  },
  {
   "cell_type": "code",
   "execution_count": 93,
   "id": "hollywood-currency",
   "metadata": {},
   "outputs": [],
   "source": [
    "marchrides_df.to_csv('data/JC-202003-citibike-tripdata-clean.csv')"
   ]
  },
  {
   "cell_type": "markdown",
   "id": "heated-yellow",
   "metadata": {},
   "source": [
    "#### Trip duration"
   ]
  },
  {
   "cell_type": "code",
   "execution_count": 74,
   "id": "dedicated-partition",
   "metadata": {
    "scrolled": true
   },
   "outputs": [
    {
     "data": {
      "image/png": "[encoded data removed]",
      "text/plain": [
       "<Figure size 720x360 with 1 Axes>"
      ]
     },
     "metadata": {
      "needs_background": "light"
     },
     "output_type": "display_data"
    }
   ],
   "source": [
    "# Most common trip is 3 minutes long\n",
    "sns.displot(data=marchrides_df,x=\"tripminutes\", bins=range(1,61), aspect=10/5);"
   ]
  },
  {
   "cell_type": "code",
   "execution_count": 70,
   "id": "logical-universal",
   "metadata": {},
   "outputs": [],
   "source": [
    "# testing matplotlib\n",
    "\n",
    "#import matplotlib.pyplot as plt\n",
    "#marchrides_df.set_index(\"tripminutes\", inplace=True)\n",
    "#marchrides_df.plot.bar()"
   ]
  },
  {
   "cell_type": "markdown",
   "id": "endangered-hayes",
   "metadata": {},
   "source": [
    "#### Rides by hour and by day"
   ]
  },
  {
   "cell_type": "code",
   "execution_count": 75,
   "id": "confidential-friday",
   "metadata": {},
   "outputs": [],
   "source": [
    "# Use the startime column now to extract hour, day and day of the week and them as categories\n",
    "marchrides_df['start hour'] = marchrides_df['starttime'].dt.hour.astype('category')\n",
    "marchrides_df['start day'] = marchrides_df['starttime'].dt.day.astype('category')\n",
    "marchrides_df['weekday'] = marchrides_df['starttime'].dt.weekday.astype('category')"
   ]
  },
  {
   "cell_type": "code",
   "execution_count": 76,
   "id": "middle-klein",
   "metadata": {
    "scrolled": true
   },
   "outputs": [
    {
     "data": {
      "image/png": "[encoded data removed]",
      "text/plain": [
       "<Figure size 864x360 with 1 Axes>"
      ]
     },
     "metadata": {
      "needs_background": "light"
     },
     "output_type": "display_data"
    }
   ],
   "source": [
    "# Show morning rush hour and evening rush hour -- what times of day gets the most usage\n",
    "plt.figure(figsize=(12,5))\n",
    "sns.countplot(data=marchrides_df, x='start hour');"
   ]
  },
  {
   "cell_type": "markdown",
   "id": "remarkable-boston",
   "metadata": {},
   "source": [
    "#### Rides per day of the month"
   ]
  },
  {
   "cell_type": "code",
   "execution_count": 77,
   "id": "ahead-excerpt",
   "metadata": {
    "scrolled": false
   },
   "outputs": [
    {
     "data": {
      "image/png": "[encoded data removed]",
      "text/plain": [
       "<Figure size 864x432 with 1 Axes>"
      ]
     },
     "metadata": {
      "needs_background": "light"
     },
     "output_type": "display_data"
    }
   ],
   "source": [
    "# Rides per day including weekends captured as a new column -- how much does ridership vary of the course of a month\n",
    "marchrides_df['day'] = [\"Weekday\" if d <= 4  else \"Weekend\" for d in marchrides_df['weekday']] # weekday values start with 0=Monday\n",
    "plt.figure(figsize=(12,6))\n",
    "sns.set_palette(\"Set2\")\n",
    "sns.countplot(data=marchrides_df,x=\"start day\" , hue='day' , dodge=False  ) ;"
   ]
  },
  {
   "cell_type": "markdown",
   "id": "robust-unknown",
   "metadata": {},
   "source": [
    "#### Station use"
   ]
  },
  {
   "cell_type": "code",
   "execution_count": 78,
   "id": "corrected-onion",
   "metadata": {
    "scrolled": true
   },
   "outputs": [
    {
     "data": {
      "image/png": "[encoded data removed]",
      "text/plain": [
       "<Figure size 864x720 with 1 Axes>"
      ]
     },
     "metadata": {
      "needs_background": "light"
     },
     "output_type": "display_data"
    }
   ],
   "source": [
    "# The 20 most frequently used stations -- Which stations get the most use\n",
    "\n",
    "startstation = marchrides_df['start station name'].value_counts()[:20]\n",
    "plt.figure(figsize=(12,10))\n",
    "sns.barplot( x=startstation.values , y=list(startstation.index), \n",
    " orient=\"h\"  ) ;"
   ]
  },
  {
   "cell_type": "markdown",
   "id": "second-directive",
   "metadata": {},
   "source": [
    "#### Riders ages"
   ]
  },
  {
   "cell_type": "code",
   "execution_count": 85,
   "id": "proud-garage",
   "metadata": {},
   "outputs": [
    {
     "data": {
      "image/png": "[encoded data removed]",
      "text/plain": [
       "<Figure size 720x360 with 1 Axes>"
      ]
     },
     "metadata": {
      "needs_background": "light"
     },
     "output_type": "display_data"
    }
   ],
   "source": [
    "# Why are so many riders born in 1970? Probably not the true birth year. \n",
    "sns.displot(data = marchrides_df, x = 'birth year', bins = range(1939,2002), aspect=10/5);"
   ]
  },
  {
   "cell_type": "code",
   "execution_count": 80,
   "id": "creative-concert",
   "metadata": {
    "scrolled": true
   },
   "outputs": [
    {
     "data": {
      "image/png": "[encoded data removed]",
      "text/plain": [
       "<Figure size 809.125x360 with 1 Axes>"
      ]
     },
     "metadata": {
      "needs_background": "light"
     },
     "output_type": "display_data"
    }
   ],
   "source": [
    "# Customers are daily as opposed to annual subscribers make up the majority of users identifying 1970 as their birth year\n",
    "sns.displot(data=marchrides_df,x=\"birth year\", bins=range(1939,2002), hue='usertype', multiple='stack',  aspect=10/5) ;"
   ]
  },
  {
   "cell_type": "code",
   "execution_count": 81,
   "id": "abroad-barrier",
   "metadata": {},
   "outputs": [
    {
     "data": {
      "text/plain": [
       "count     16218\n",
       "unique       55\n",
       "top          31\n",
       "freq        922\n",
       "Name: age, dtype: int64"
      ]
     },
     "execution_count": 81,
     "metadata": {},
     "output_type": "execute_result"
    }
   ],
   "source": [
    "# Layer in gender \n",
    "\n",
    "skip = (marchrides_df['gender'] == 0) | (marchrides_df['birth year'] < 1946) \n",
    "marchrides_df['age'] = (2020 - marchrides_df['birth year']).mask(skip,None)\n",
    "marchrides_df['age'].describe()"
   ]
  },
  {
   "cell_type": "code",
   "execution_count": 68,
   "id": "driven-debut",
   "metadata": {
    "scrolled": false
   },
   "outputs": [
    {
     "data": {
      "image/png": "[encoded data removed]",
      "text/plain": [
       "<Figure size 763.5x360 with 1 Axes>"
      ]
     },
     "metadata": {
      "needs_background": "light"
     },
     "output_type": "display_data"
    }
   ],
   "source": [
    "sns.displot(data=marchrides_df, x='age', hue='gender', multiple='stack',  aspect=10/5) ;"
   ]
  },
  {
   "cell_type": "code",
   "execution_count": null,
   "id": "administrative-belize",
   "metadata": {},
   "outputs": [],
   "source": []
  }
 ],
 "metadata": {
  "kernelspec": {
   "display_name": "Python 3",
   "language": "python",
   "name": "python3"
  },
  "language_info": {
   "codemirror_mode": {
    "name": "ipython",
    "version": 3
   },
   "file_extension": ".py",
   "mimetype": "text/x-python",
   "name": "python",
   "nbconvert_exporter": "python",
   "pygments_lexer": "ipython3",
   "version": "3.8.5"
  }
 },
 "nbformat": 4,
 "nbformat_minor": 5
}
